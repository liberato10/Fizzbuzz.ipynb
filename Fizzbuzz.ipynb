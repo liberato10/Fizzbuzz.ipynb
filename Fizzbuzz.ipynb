{
  "nbformat": 4,
  "nbformat_minor": 0,
  "metadata": {
    "colab": {
      "name": "Fizzbuzz.ipynb",
      "provenance": [],
      "authorship_tag": "ABX9TyPPMGbxReyPQnXGiIn5tVSI",
      "include_colab_link": true
    },
    "kernelspec": {
      "name": "python3",
      "display_name": "Python 3"
    },
    "language_info": {
      "name": "python"
    },
    "gpuClass": "standard"
  },
  "cells": [
    {
      "cell_type": "markdown",
      "metadata": {
        "id": "view-in-github",
        "colab_type": "text"
      },
      "source": [
        "<a href=\"https://colab.research.google.com/github/liberato10/Fizzbuzz.ipynb/blob/main/Fizzbuzz.ipynb\" target=\"_parent\"><img src=\"https://colab.research.google.com/assets/colab-badge.svg\" alt=\"Open In Colab\"/></a>"
      ]
    },
    {
      "cell_type": "code",
      "source": [
        "for fizzbuzz in range(20):\n",
        "  if fizzbuzz % 3 == 0 and fizzbuzz % 5 == 0:\n",
        "    print('fizzbuzz')\n"
      ],
      "metadata": {
        "colab": {
          "base_uri": "https://localhost:8080/"
        },
        "id": "0dlTzQCjUWUU",
        "outputId": "dfcc1123-ba27-40e8-fe64-25d164b5400b"
      },
      "execution_count": null,
      "outputs": [
        {
          "output_type": "stream",
          "name": "stdout",
          "text": [
            "fizzbuzz\n",
            "fizzbuzz\n"
          ]
        }
      ]
    },
    {
      "cell_type": "code",
      "source": [
        "for fizzbuzz in range (20):\n",
        " if fizzbuzz % 3 == 0 and fizzbuzz % 5 == 0 :\n",
        "     print('fizzbuzz')\n",
        " elif fizzbuzz % 3 == 0:\n",
        "   print('fizz')\n",
        " elif fizzbuzz % 5 == 0:\n",
        "   print('buzz')\n",
        "   print('fizzbuzz')\n",
        " "
      ],
      "metadata": {
        "colab": {
          "base_uri": "https://localhost:8080/"
        },
        "id": "TLYisTtoCjo6",
        "outputId": "266afcd5-cd8d-4503-9c5d-9472556a07bb"
      },
      "execution_count": 10,
      "outputs": [
        {
          "output_type": "stream",
          "name": "stdout",
          "text": [
            "fizzbuzz\n",
            "fizz\n",
            "buzz\n",
            "fizzbuzz\n",
            "fizz\n",
            "fizz\n",
            "buzz\n",
            "fizzbuzz\n",
            "fizz\n",
            "fizzbuzz\n",
            "fizz\n"
          ]
        }
      ]
    }
  ]
}