{
  "nbformat": 4,
  "nbformat_minor": 0,
  "metadata": {
    "colab": {
      "name": "Fizzbuzz.ipynb",
      "provenance": [],
      "authorship_tag": "ABX9TyMdwOr50ExlJ0jloFJKcGq3",
      "include_colab_link": true
    },
    "kernelspec": {
      "name": "python3",
      "display_name": "Python 3"
    },
    "language_info": {
      "name": "python"
    }
  },
  "cells": [
    {
      "cell_type": "markdown",
      "metadata": {
        "id": "view-in-github",
        "colab_type": "text"
      },
      "source": [
        "<a href=\"https://colab.research.google.com/github/liberato10/Fizzbuzz.ipynb/blob/main/Fizzbuzz.ipynb\" target=\"_parent\"><img src=\"https://colab.research.google.com/assets/colab-badge.svg\" alt=\"Open In Colab\"/></a>"
      ]
    },
    {
      "cell_type": "code",
      "source": [
        "for fizzbuzz in range(20):\n",
        "  if fizzbuzz % 3 == 0 and fizzbuzz % 5 == 0:\n",
        "    print('fizzbuzz')\n",
        "    "
      ],
      "metadata": {
        "colab": {
          "base_uri": "https://localhost:8080/"
        },
        "id": "0dlTzQCjUWUU",
        "outputId": "08467d47-8930-4772-e4a4-3bc32d536de4"
      },
      "execution_count": 41,
      "outputs": [
        {
          "output_type": "stream",
          "name": "stdout",
          "text": [
            "fizzbuzz\n",
            "fizzbuzz\n"
          ]
        }
      ]
    }
  ]
}